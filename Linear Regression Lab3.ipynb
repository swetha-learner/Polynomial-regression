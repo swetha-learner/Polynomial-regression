{
 "cells": [
  {
   "cell_type": "markdown",
   "metadata": {},
   "source": [
    "## non-Linear / polynomial Regression"
   ]
  },
  {
   "cell_type": "code",
   "execution_count": 6,
   "metadata": {},
   "outputs": [
    {
     "name": "stdout",
     "output_type": "stream",
     "text": [
      "[[6], [8], [10], [14], [10]]\n",
      "[[7], [9], [13], [13.5], [10]]\n"
     ]
    },
    {
     "data": {
      "image/png": "[encoded data removed]",
      "text/plain": [
       "<Figure size 432x288 with 1 Axes>"
      ]
     },
     "metadata": {
      "needs_background": "light"
     },
     "output_type": "display_data"
    }
   ],
   "source": [
    "%matplotlib inline\n",
    "import matplotlib.pyplot as plt\n",
    "X= [[6],[8],[10],[14],[18]]\n",
    "Y = [[7],[9],[13],[13.5],[10]]\n",
    "print(psize)\n",
    "print(pprice)\n",
    "plt.figure()\n",
    "plt.title('piza price plotted against diameter')\n",
    "plt.xlabel(\"Diameter in inches\")\n",
    "plt.ylabel(\"Price in dollars\")\n",
    "plt.plot(X,Y,'go') #fmt\n",
    "plt.axis([0,25,0,25])  #x1,x2,y1,y2\n",
    "plt.grid(True)\n",
    "plt.show()"
   ]
  },
  {
   "cell_type": "markdown",
   "metadata": {},
   "source": [
    "## Converting Non- Linear equations to Linear"
   ]
  },
  {
   "cell_type": "code",
   "execution_count": 13,
   "metadata": {},
   "outputs": [
    {
     "name": "stdout",
     "output_type": "stream",
     "text": [
      "[[  1.   6.  36.]\n",
      " [  1.   8.  64.]\n",
      " [  1.  10. 100.]\n",
      " [  1.  14. 196.]\n",
      " [  1.  18. 324.]]\n"
     ]
    }
   ],
   "source": [
    "%precision 2\n",
    "from sklearn.preprocessing import PolynomialFeatures\n",
    "\n",
    "poly = PolynomialFeatures(degree= 2)\n",
    "\n",
    "quadraticcoef = poly.fit_transform(X)\n",
    "print(quadraticcoef)"
   ]
  },
  {
   "cell_type": "code",
   "execution_count": 14,
   "metadata": {},
   "outputs": [
    {
     "name": "stdout",
     "output_type": "stream",
     "text": [
      "Expected Output: [[7], [9], [13], [13.5], [10]]\n",
      "Predicted Output :\n",
      "  [[ 6.57]\n",
      " [10.04]\n",
      " [12.35]\n",
      " [13.5 ]\n",
      " [10.04]]\n"
     ]
    }
   ],
   "source": [
    "from sklearn.linear_model import LinearRegression ## OLS\n",
    "\n",
    "\n",
    "#create and fit the model\n",
    "pmodel = LinearRegression() #y=mx+c\n",
    "\n",
    "pmodel.fit(quadraticcoef,Y)  # (2dimen,2dimen)  #ex = y= 2x+3\n",
    "\n",
    "print(\"Expected Output:\",Y)   #actual output - Expected output\n",
    "print(\"Predicted Output :\\n \",pmodel.predict(quadraticcoef))  #predicted"
   ]
  },
  {
   "cell_type": "code",
   "execution_count": 17,
   "metadata": {},
   "outputs": [
    {
     "data": {
      "text/plain": [
       "array([[-10.76],\n",
       "       [ -7.15],\n",
       "       [ -3.83],\n",
       "       [ -0.8 ],\n",
       "       [  1.95],\n",
       "       [  4.4 ]])"
      ]
     },
     "execution_count": 17,
     "metadata": {},
     "output_type": "execute_result"
    }
   ],
   "source": [
    "pmodel.predict([[1,5,5**2]])      #quadratic format ( 3 columns [ 1, x, x**2])\n",
    "pmodel.predict([[1,0,0],\n",
    "                [1,1,1],\n",
    "                [1,2,4],\n",
    "                [1,3,9],\n",
    "                [1,4,16],\n",
    "                [1,5,25]\n",
    "               ])"
   ]
  },
  {
   "cell_type": "code",
   "execution_count": 18,
   "metadata": {},
   "outputs": [
    {
     "data": {
      "text/plain": [
       "0.9437899786780383"
      ]
     },
     "execution_count": 18,
     "metadata": {},
     "output_type": "execute_result"
    }
   ],
   "source": [
    "pmodel.score(quadraticcoef,Y)"
   ]
  },
  {
   "cell_type": "code",
   "execution_count": 21,
   "metadata": {},
   "outputs": [
    {
     "data": {
      "text/plain": [
       "array([[-10.76],\n",
       "       [ -9.83],\n",
       "       [ -8.92],\n",
       "       [ -8.03],\n",
       "       [ -7.15],\n",
       "       [ -6.29],\n",
       "       [ -5.45],\n",
       "       [ -4.63],\n",
       "       [ -3.83],\n",
       "       [ -3.04],\n",
       "       [ -2.28],\n",
       "       [ -1.53],\n",
       "       [ -0.8 ],\n",
       "       [ -0.08],\n",
       "       [  0.61],\n",
       "       [  1.29],\n",
       "       [  1.95],\n",
       "       [  2.59],\n",
       "       [  3.21],\n",
       "       [  3.82],\n",
       "       [  4.4 ],\n",
       "       [  4.97],\n",
       "       [  5.52],\n",
       "       [  6.06],\n",
       "       [  6.57],\n",
       "       [  7.07],\n",
       "       [  7.54],\n",
       "       [  8.01],\n",
       "       [  8.45],\n",
       "       [  8.87],\n",
       "       [  9.28],\n",
       "       [  9.67],\n",
       "       [ 10.04],\n",
       "       [ 10.39],\n",
       "       [ 10.72],\n",
       "       [ 11.04],\n",
       "       [ 11.34],\n",
       "       [ 11.62],\n",
       "       [ 11.88],\n",
       "       [ 12.12],\n",
       "       [ 12.35],\n",
       "       [ 12.56],\n",
       "       [ 12.74],\n",
       "       [ 12.92],\n",
       "       [ 13.07],\n",
       "       [ 13.21],\n",
       "       [ 13.32],\n",
       "       [ 13.42],\n",
       "       [ 13.5 ],\n",
       "       [ 13.57],\n",
       "       [ 13.61],\n",
       "       [ 13.64],\n",
       "       [ 13.65],\n",
       "       [ 13.64],\n",
       "       [ 13.61],\n",
       "       [ 13.57],\n",
       "       [ 13.5 ],\n",
       "       [ 13.42],\n",
       "       [ 13.32],\n",
       "       [ 13.21],\n",
       "       [ 13.07],\n",
       "       [ 12.92],\n",
       "       [ 12.75],\n",
       "       [ 12.56],\n",
       "       [ 12.35],\n",
       "       [ 12.13],\n",
       "       [ 11.88],\n",
       "       [ 11.62],\n",
       "       [ 11.34],\n",
       "       [ 11.04],\n",
       "       [ 10.73],\n",
       "       [ 10.39],\n",
       "       [ 10.04],\n",
       "       [  9.67],\n",
       "       [  9.28],\n",
       "       [  8.88],\n",
       "       [  8.45],\n",
       "       [  8.01],\n",
       "       [  7.55],\n",
       "       [  7.07],\n",
       "       [  6.58],\n",
       "       [  6.06],\n",
       "       [  5.53],\n",
       "       [  4.98],\n",
       "       [  4.41],\n",
       "       [  3.83],\n",
       "       [  3.22],\n",
       "       [  2.6 ],\n",
       "       [  1.96],\n",
       "       [  1.3 ],\n",
       "       [  0.62],\n",
       "       [ -0.07],\n",
       "       [ -0.78],\n",
       "       [ -1.52],\n",
       "       [ -2.26],\n",
       "       [ -3.03],\n",
       "       [ -3.82],\n",
       "       [ -4.62],\n",
       "       [ -5.44],\n",
       "       [ -6.28],\n",
       "       [ -7.14]])"
      ]
     },
     "execution_count": 21,
     "metadata": {},
     "output_type": "execute_result"
    }
   ],
   "source": [
    "import numpy as np\n",
    "\n",
    "xx = np.linspace(0,25,101).reshape(-1,1)\n",
    "pmodel.predict(poly.fit_transform(xx))"
   ]
  },
  {
   "cell_type": "code",
   "execution_count": 24,
   "metadata": {},
   "outputs": [
    {
     "data": {
      "image/png": "[encoded data removed]",
      "text/plain": [
       "<Figure size 432x288 with 1 Axes>"
      ]
     },
     "metadata": {
      "needs_background": "light"
     },
     "output_type": "display_data"
    }
   ],
   "source": [
    "# ploting the curve\n",
    "\n",
    "xx = np.linspace(0,25,101).reshape(-1,1)\n",
    "xx_quadratic = poly.fit_transform(xx)\n",
    "\n",
    "plt.figure()\n",
    "plt.title('piza price plotted against diameter')\n",
    "plt.xlabel(\"Diameter in inches\")\n",
    "plt.ylabel(\"Price in dollars\")\n",
    "plt.plot(X,Y,'go') #fmt\n",
    "plt.plot(xx,pmodel.predict(xx_quadratic),c='r',linestyle=\"-\")\n",
    "plt.axis([0,25,0,25])  #x1,x2,y1,y2\n",
    "plt.grid()\n"
   ]
  },
  {
   "cell_type": "code",
   "execution_count": null,
   "metadata": {},
   "outputs": [],
   "source": []
  }
 ],
 "metadata": {
  "kernelspec": {
   "display_name": "Python 3",
   "language": "python",
   "name": "python3"
  },
  "language_info": {
   "codemirror_mode": {
    "name": "ipython",
    "version": 3
   },
   "file_extension": ".py",
   "mimetype": "text/x-python",
   "name": "python",
   "nbconvert_exporter": "python",
   "pygments_lexer": "ipython3",
   "version": "3.8.5"
  }
 },
 "nbformat": 4,
 "nbformat_minor": 4
}
